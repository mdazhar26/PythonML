{
 "cells": [
  {
   "cell_type": "markdown",
   "metadata": {},
   "source": [
    "1.1 Write a Python Program to implement your own myreduce() function which works exactly like\n",
    "Python's built-in function reduce()"
   ]
  },
  {
   "cell_type": "code",
   "execution_count": 47,
   "metadata": {},
   "outputs": [
    {
     "name": "stdout",
     "output_type": "stream",
     "text": [
      "4911\n"
     ]
    }
   ],
   "source": [
    "def myreduce(function, sequence, initial=None):\n",
    "    x=sequence[0]\n",
    "    for i in sequence:\n",
    "        #[ function(function(s1, s2),s3), ... , sn ]\n",
    "        x= function(x,i)\n",
    "    return x\n",
    "\n",
    "lst=[4767,126,24,2,13,32,546,2,4,12,12,34,536,12,4911,42,23,45]\n",
    "max_find=lambda a,b: a if (a>b) else b\n",
    "print(myreduce(max_find,lst))"
   ]
  },
  {
   "cell_type": "markdown",
   "metadata": {},
   "source": [
    "1.2 Write a Python program to implement your own myfilter() function which works exactly like\n",
    "Python's built-in function filter()"
   ]
  },
  {
   "cell_type": "code",
   "execution_count": 26,
   "metadata": {},
   "outputs": [
    {
     "data": {
      "text/plain": [
       "[86, 4, 32, 2, 2, 32, 4]"
      ]
     },
     "execution_count": 26,
     "metadata": {},
     "output_type": "execute_result"
    }
   ],
   "source": [
    "def myfilter(function, sequence):\n",
    "    k=[]\n",
    "    for i in sequence:\n",
    "        if function(i)==True:\n",
    "            k.append(i)\n",
    "    return k\n",
    "\n",
    "#First let's make a function\n",
    "def even_check(num):\n",
    "    if num%2 ==0:\n",
    "        return True\n",
    "    \n",
    "lst =[1,86,4,3,32,3,2,2,32,4]\n",
    "\n",
    "list(myfilter(even_check,lst))\n"
   ]
  },
  {
   "cell_type": "raw",
   "metadata": {},
   "source": [
    "2. Implement List comprehensions to produce the following lists.\n",
    "Write List comprehensions to produce the following Lists\n",
    "['A', 'C', 'A', 'D', 'G', 'I', ’L’, ‘ D’]\n",
    "['x', 'xx', 'xxx', 'xxxx', 'y', 'yy', 'yyy', 'yyyy', 'z', 'zz', 'zzz', 'zzzz']\n",
    "['x', 'y', 'z', 'xx', 'yy', 'zz', 'xx', 'yy', 'zz', 'xxxx', 'yyyy', 'zzzz']\n",
    "[[2], [3], [4], [3], [4], [5], [4], [5], [6]]\n",
    "[[2, 3, 4, 5], [3, 4, 5, 6], [4, 5, 6, 7], [5, 6, 7, 8]]\n",
    "[(1, 1), (2, 1), (3, 1), (1, 2), (2, 2), (3, 2), (1, 3), (2, 3), (3, 3)]"
   ]
  },
  {
   "cell_type": "code",
   "execution_count": 30,
   "metadata": {},
   "outputs": [
    {
     "data": {
      "text/plain": [
       "['A', 'C', 'A', 'D', 'G', 'I', 'L', 'D']"
      ]
     },
     "execution_count": 30,
     "metadata": {},
     "output_type": "execute_result"
    }
   ],
   "source": [
    "#['A', 'C', 'A', 'D', 'G', 'I', ’L’, ‘ D’]\n",
    "def fun_1(string):\n",
    "    return list(string)\n",
    "\n",
    "fun_1('ACADGILD')"
   ]
  },
  {
   "cell_type": "code",
   "execution_count": 46,
   "metadata": {},
   "outputs": [
    {
     "data": {
      "text/plain": [
       "['x', 'xx', 'xxx', 'y', 'yy', 'yyy', 'z', 'zz', 'zzz']"
      ]
     },
     "execution_count": 46,
     "metadata": {},
     "output_type": "execute_result"
    }
   ],
   "source": [
    "#['x', 'xx', 'xxx', 'xxxx', 'y', 'yy', 'yyy', 'yyyy', 'z', 'zz', 'zzz', 'zzzz']\n",
    "def fun_list1(lst):\n",
    "    k=[]\n",
    "    for i in lst:\n",
    "          for j in range(4):\n",
    "                if j!=0:\n",
    "                    k.append(i*j)\n",
    "    return k\n",
    "\n",
    "ls=['x','y','z']\n",
    "fun_list1(ls)"
   ]
  },
  {
   "cell_type": "code",
   "execution_count": 50,
   "metadata": {},
   "outputs": [
    {
     "data": {
      "text/plain": [
       "['x', 'y', 'z', 'xx', 'xxx', 'yy', 'yyy', 'zz', 'zzz']"
      ]
     },
     "execution_count": 50,
     "metadata": {},
     "output_type": "execute_result"
    }
   ],
   "source": [
    "#['x', 'y', 'z', 'xx', 'yy', 'zz', 'xx', 'yy', 'zz', 'xxxx', 'yyyy', 'zzzz']\n",
    "def fun_list2(lst):\n",
    "    k=[]\n",
    "            \n",
    "    for i in lst:\n",
    "        for j in range(4):\n",
    "            if j >1:\n",
    "                k.append(i*j)\n",
    "    return k\n",
    "\n",
    "ls=['x','y','z']\n",
    "fun_list2(ls)\n",
    "    "
   ]
  },
  {
   "cell_type": "code",
   "execution_count": 50,
   "metadata": {},
   "outputs": [
    {
     "data": {
      "text/plain": [
       "[[2], [3], [4], [3], [4], [5], [4], [5], [6]]"
      ]
     },
     "execution_count": 50,
     "metadata": {},
     "output_type": "execute_result"
    }
   ],
   "source": [
    "#[[2], [3], [4], [3], [4], [5], [4], [5], [6]]\n",
    "def fun_list3():\n",
    "    k=[]\n",
    "    for i in range(2,5):\n",
    "        for y in range(3):\n",
    "            k.append([i+y])\n",
    "        \n",
    "    return k\n",
    "        \n",
    "fun_list3()   \n"
   ]
  },
  {
   "cell_type": "code",
   "execution_count": 101,
   "metadata": {},
   "outputs": [
    {
     "name": "stdout",
     "output_type": "stream",
     "text": [
      "[[2, 3, 4, 5], [3, 4, 5, 6], [4, 5, 6, 7], [5, 6, 7, 8]]\n"
     ]
    }
   ],
   "source": [
    "#[[2, 3, 4, 5], [3, 4, 5, 6], [4, 5, 6, 7], [5, 6, 7, 8]]\n",
    "list = [[x+y for x in range(2,6)] for y in range(4)]\n",
    "print(list)\n"
   ]
  },
  {
   "cell_type": "code",
   "execution_count": 100,
   "metadata": {},
   "outputs": [
    {
     "name": "stdout",
     "output_type": "stream",
     "text": [
      "[(1, 1), (2, 1), (3, 1), (1, 2), (2, 2), (3, 2), (1, 3), (2, 3), (3, 3)]\n"
     ]
    }
   ],
   "source": [
    "#[(1, 1), (2, 1), (3, 1), (1, 2), (2, 2), (3, 2), (1, 3), (2, 3), (3, 3)]\n",
    "\n",
    "ls = [1,2,3]\n",
    "\n",
    "result = []\n",
    "for i in ls:\n",
    "    for j in ls:\n",
    "        result.append((j,i))\n",
    "\n",
    "print(result)"
   ]
  },
  {
   "cell_type": "raw",
   "metadata": {},
   "source": [
    "3.Implement a function longestWord() that takes a list of words and returns the longest one."
   ]
  },
  {
   "cell_type": "code",
   "execution_count": 61,
   "metadata": {},
   "outputs": [
    {
     "data": {
      "text/plain": [
       "'afdtga'"
      ]
     },
     "execution_count": 61,
     "metadata": {},
     "output_type": "execute_result"
    }
   ],
   "source": [
    "def longestWord(lists):\n",
    "    long_word=lambda a,b: a if (len(a)>len(b)) else b\n",
    "    x=lists[0]\n",
    "    for i in lists:\n",
    "        x= long_word(x,i)\n",
    "    return x\n",
    "\n",
    "lst=['a','afdtga','42d','wqe3d','sadas']\n",
    "\n",
    "longestWord(lst)\n",
    "\n"
   ]
  },
  {
   "cell_type": "markdown",
   "metadata": {},
   "source": [
    "TASK-2"
   ]
  },
  {
   "cell_type": "raw",
   "metadata": {},
   "source": [
    "1.1 Write a Python Program(with class concepts) to find the area of the triangle using the below\n",
    "formula.\n",
    "area = (s*(s-a)*(s-b)*(s-c)) ** 0.5\n",
    "Function to take the length of the sides of triangle from user should be defined in the parent\n",
    "class and function to calculate the area should be defined in subclass."
   ]
  },
  {
   "cell_type": "code",
   "execution_count": 183,
   "metadata": {},
   "outputs": [],
   "source": [
    "class Triangle:\n",
    "    def __init__(self, side_a, side_b, side_c):\n",
    "        self.side_a = side_a\n",
    "        self.side_b = side_b\n",
    "        self.side_c = side_c\n"
   ]
  },
  {
   "cell_type": "code",
   "execution_count": 188,
   "metadata": {},
   "outputs": [],
   "source": [
    "class Area(Triangle):\n",
    "    def __init__(self, *args):\n",
    "        super(Area, self).__init__(*args)\n",
    "\n",
    "    def tri_area(self):\n",
    "        s=(self.side_a+self.side_b+self.side_c)/2\n",
    "        return round((s*(s-self.side_a)*(s-self.side_b)*(s-self.side_c)) ** 0.5,3)\n",
    "   \n",
    "\n"
   ]
  },
  {
   "cell_type": "code",
   "execution_count": 189,
   "metadata": {},
   "outputs": [
    {
     "name": "stdout",
     "output_type": "stream",
     "text": [
      "2.905\n"
     ]
    }
   ],
   "source": [
    "Cal_area=Area(2,3,4)\n",
    "print(Cal_area.tri_area())\n"
   ]
  },
  {
   "cell_type": "raw",
   "metadata": {},
   "source": [
    "1.2 Write a function filter_long_words() that takes a list of words and an integer n and returns the list\n",
    "of words that are longer than n."
   ]
  },
  {
   "cell_type": "code",
   "execution_count": 70,
   "metadata": {},
   "outputs": [
    {
     "data": {
      "text/plain": [
       "['afdtga', 'det6d5d']"
      ]
     },
     "execution_count": 70,
     "metadata": {},
     "output_type": "execute_result"
    }
   ],
   "source": [
    "def filter_long_words(lists,n):\n",
    "    k=[]\n",
    "    long_word=lambda a,n: k.append(a) if (len(a)>n) else None\n",
    "    for i in lists:\n",
    "        long_word(i,n)\n",
    "    return k\n",
    "\n",
    "\n",
    "lst=['a','afdtga','42d','wqe3d','sadas','det6d5d']\n",
    "filter_long_words(lst,5)"
   ]
  },
  {
   "cell_type": "raw",
   "metadata": {},
   "source": [
    "2.1 Write a Python program using function concept that maps list of words into a list of integers\n",
    "representing the lengths of the corresponding words .\n",
    "Hint: If a list [ ab,cde,erty] is passed on to the python function output should come as [2,3,4]\n",
    "Here 2,3 and 4 are the lengths of the words in the list."
   ]
  },
  {
   "cell_type": "code",
   "execution_count": 1,
   "metadata": {},
   "outputs": [
    {
     "data": {
      "text/plain": [
       "[2, 3, 4]"
      ]
     },
     "execution_count": 1,
     "metadata": {},
     "output_type": "execute_result"
    }
   ],
   "source": [
    "def list_words_length(lists):\n",
    "    k=[]\n",
    "    word_length=lambda a: k.append(len(a))\n",
    "    for i in lists:\n",
    "        word_length(i)\n",
    "    return k\n",
    "\n",
    "\n",
    "lst=['ab','cde','erty']\n",
    "list_words_length(lst)"
   ]
  },
  {
   "cell_type": "raw",
   "metadata": {},
   "source": [
    "2.2 Write a Python function which takes a character (i.e. a string of length 1) and returns True if it is\n",
    "a vowel, False otherwise."
   ]
  },
  {
   "cell_type": "code",
   "execution_count": 91,
   "metadata": {},
   "outputs": [
    {
     "data": {
      "text/plain": [
       "True"
      ]
     },
     "execution_count": 91,
     "metadata": {},
     "output_type": "execute_result"
    }
   ],
   "source": [
    "def fun_vowel_check(char):\n",
    "    if char.upper() in ('A','E','I','O','U'):\n",
    "        return True\n",
    "    else:\n",
    "        return False\n",
    "    \n",
    "fun_vowel_check('e') \n"
   ]
  },
  {
   "cell_type": "code",
   "execution_count": 190,
   "metadata": {},
   "outputs": [
    {
     "data": {
      "text/plain": [
       "'C:\\\\Users\\\\Azhar\\\\PythonML'"
      ]
     },
     "execution_count": 190,
     "metadata": {},
     "output_type": "execute_result"
    }
   ],
   "source": [
    "pwd()"
   ]
  },
  {
   "cell_type": "code",
   "execution_count": null,
   "metadata": {},
   "outputs": [],
   "source": []
  }
 ],
 "metadata": {
  "kernelspec": {
   "display_name": "Python 3",
   "language": "python",
   "name": "python3"
  },
  "language_info": {
   "codemirror_mode": {
    "name": "ipython",
    "version": 3
   },
   "file_extension": ".py",
   "mimetype": "text/x-python",
   "name": "python",
   "nbconvert_exporter": "python",
   "pygments_lexer": "ipython3",
   "version": "3.7.4"
  }
 },
 "nbformat": 4,
 "nbformat_minor": 4
}
